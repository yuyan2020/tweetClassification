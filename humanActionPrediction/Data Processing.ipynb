{
 "cells": [
  {
   "cell_type": "code",
   "execution_count": 3,
   "id": "bd2313bd",
   "metadata": {},
   "outputs": [
    {
     "name": "stdout",
     "output_type": "stream",
     "text": [
      "(9388, 962)\n",
      "(2959, 961)\n"
     ]
    },
    {
     "data": {
      "text/html": [
       "<div>\n",
       "<style scoped>\n",
       "    .dataframe tbody tr th:only-of-type {\n",
       "        vertical-align: middle;\n",
       "    }\n",
       "\n",
       "    .dataframe tbody tr th {\n",
       "        vertical-align: top;\n",
       "    }\n",
       "\n",
       "    .dataframe thead th {\n",
       "        text-align: right;\n",
       "    }\n",
       "</style>\n",
       "<table border=\"1\" class=\"dataframe\">\n",
       "  <thead>\n",
       "    <tr style=\"text-align: right;\">\n",
       "      <th></th>\n",
       "      <th>0</th>\n",
       "      <th>1</th>\n",
       "      <th>2</th>\n",
       "      <th>3</th>\n",
       "      <th>4</th>\n",
       "      <th>5</th>\n",
       "      <th>6</th>\n",
       "      <th>7</th>\n",
       "      <th>8</th>\n",
       "      <th>9</th>\n",
       "      <th>...</th>\n",
       "      <th>951</th>\n",
       "      <th>952</th>\n",
       "      <th>953</th>\n",
       "      <th>954</th>\n",
       "      <th>955</th>\n",
       "      <th>956</th>\n",
       "      <th>957</th>\n",
       "      <th>958</th>\n",
       "      <th>959</th>\n",
       "      <th>960</th>\n",
       "    </tr>\n",
       "  </thead>\n",
       "  <tbody>\n",
       "    <tr>\n",
       "      <th>0</th>\n",
       "      <td>1</td>\n",
       "      <td>0.93652</td>\n",
       "      <td>-0.32644</td>\n",
       "      <td>2.02410</td>\n",
       "      <td>-1.996400</td>\n",
       "      <td>-2.600600</td>\n",
       "      <td>2.30860</td>\n",
       "      <td>-8.25920</td>\n",
       "      <td>-9.209900</td>\n",
       "      <td>2.88510</td>\n",
       "      <td>...</td>\n",
       "      <td>15.2500</td>\n",
       "      <td>-0.13846</td>\n",
       "      <td>-3.11080</td>\n",
       "      <td>2.0895</td>\n",
       "      <td>2.5293</td>\n",
       "      <td>5.84900</td>\n",
       "      <td>-4.9897</td>\n",
       "      <td>4.75810</td>\n",
       "      <td>5.1081</td>\n",
       "      <td>-2.9497</td>\n",
       "    </tr>\n",
       "    <tr>\n",
       "      <th>1</th>\n",
       "      <td>2</td>\n",
       "      <td>1.93410</td>\n",
       "      <td>-2.58880</td>\n",
       "      <td>-5.27190</td>\n",
       "      <td>10.809000</td>\n",
       "      <td>-5.624800</td>\n",
       "      <td>-15.28800</td>\n",
       "      <td>18.15000</td>\n",
       "      <td>-8.198600</td>\n",
       "      <td>-25.02300</td>\n",
       "      <td>...</td>\n",
       "      <td>-112.6000</td>\n",
       "      <td>215.56000</td>\n",
       "      <td>-169.93000</td>\n",
       "      <td>-97.7360</td>\n",
       "      <td>123.8600</td>\n",
       "      <td>-47.75700</td>\n",
       "      <td>8.5216</td>\n",
       "      <td>133.73000</td>\n",
       "      <td>-21.5210</td>\n",
       "      <td>-2.8799</td>\n",
       "    </tr>\n",
       "    <tr>\n",
       "      <th>2</th>\n",
       "      <td>3</td>\n",
       "      <td>0.15171</td>\n",
       "      <td>-0.32254</td>\n",
       "      <td>0.54372</td>\n",
       "      <td>-0.001275</td>\n",
       "      <td>-0.036333</td>\n",
       "      <td>0.01976</td>\n",
       "      <td>-0.15681</td>\n",
       "      <td>0.040158</td>\n",
       "      <td>-0.38437</td>\n",
       "      <td>...</td>\n",
       "      <td>9.5563</td>\n",
       "      <td>2.49110</td>\n",
       "      <td>-0.79551</td>\n",
       "      <td>6.1167</td>\n",
       "      <td>1.9027</td>\n",
       "      <td>-5.27980</td>\n",
       "      <td>3.5594</td>\n",
       "      <td>0.87136</td>\n",
       "      <td>-5.3856</td>\n",
       "      <td>3.5791</td>\n",
       "    </tr>\n",
       "    <tr>\n",
       "      <th>3</th>\n",
       "      <td>4</td>\n",
       "      <td>-3.99490</td>\n",
       "      <td>-7.74780</td>\n",
       "      <td>15.75800</td>\n",
       "      <td>-5.631000</td>\n",
       "      <td>-11.692000</td>\n",
       "      <td>4.41430</td>\n",
       "      <td>-10.73100</td>\n",
       "      <td>-16.211000</td>\n",
       "      <td>0.74900</td>\n",
       "      <td>...</td>\n",
       "      <td>109.6000</td>\n",
       "      <td>62.72700</td>\n",
       "      <td>153.11000</td>\n",
       "      <td>-128.9800</td>\n",
       "      <td>-93.6470</td>\n",
       "      <td>224.45000</td>\n",
       "      <td>-141.1200</td>\n",
       "      <td>-135.44000</td>\n",
       "      <td>220.6000</td>\n",
       "      <td>-131.4100</td>\n",
       "    </tr>\n",
       "    <tr>\n",
       "      <th>4</th>\n",
       "      <td>5</td>\n",
       "      <td>-10.13300</td>\n",
       "      <td>-31.76300</td>\n",
       "      <td>32.31000</td>\n",
       "      <td>-12.476000</td>\n",
       "      <td>-3.226600</td>\n",
       "      <td>19.49200</td>\n",
       "      <td>-8.83500</td>\n",
       "      <td>3.977800</td>\n",
       "      <td>14.96800</td>\n",
       "      <td>...</td>\n",
       "      <td>1.0905</td>\n",
       "      <td>16.74200</td>\n",
       "      <td>10.98200</td>\n",
       "      <td>18.1190</td>\n",
       "      <td>-1.6926</td>\n",
       "      <td>-0.31062</td>\n",
       "      <td>2.4190</td>\n",
       "      <td>1.15070</td>\n",
       "      <td>-2.8109</td>\n",
       "      <td>9.8108</td>\n",
       "    </tr>\n",
       "  </tbody>\n",
       "</table>\n",
       "<p>5 rows × 961 columns</p>\n",
       "</div>"
      ],
      "text/plain": [
       "   0         1         2         3          4          5         6    \\\n",
       "0    1   0.93652  -0.32644   2.02410  -1.996400  -2.600600   2.30860   \n",
       "1    2   1.93410  -2.58880  -5.27190  10.809000  -5.624800 -15.28800   \n",
       "2    3   0.15171  -0.32254   0.54372  -0.001275  -0.036333   0.01976   \n",
       "3    4  -3.99490  -7.74780  15.75800  -5.631000 -11.692000   4.41430   \n",
       "4    5 -10.13300 -31.76300  32.31000 -12.476000  -3.226600  19.49200   \n",
       "\n",
       "        7          8         9    ...       951        952        953  \\\n",
       "0  -8.25920  -9.209900   2.88510  ...   15.2500   -0.13846   -3.11080   \n",
       "1  18.15000  -8.198600 -25.02300  ... -112.6000  215.56000 -169.93000   \n",
       "2  -0.15681   0.040158  -0.38437  ...    9.5563    2.49110   -0.79551   \n",
       "3 -10.73100 -16.211000   0.74900  ...  109.6000   62.72700  153.11000   \n",
       "4  -8.83500   3.977800  14.96800  ...    1.0905   16.74200   10.98200   \n",
       "\n",
       "        954       955        956       957        958       959       960  \n",
       "0    2.0895    2.5293    5.84900   -4.9897    4.75810    5.1081   -2.9497  \n",
       "1  -97.7360  123.8600  -47.75700    8.5216  133.73000  -21.5210   -2.8799  \n",
       "2    6.1167    1.9027   -5.27980    3.5594    0.87136   -5.3856    3.5791  \n",
       "3 -128.9800  -93.6470  224.45000 -141.1200 -135.44000  220.6000 -131.4100  \n",
       "4   18.1190   -1.6926   -0.31062    2.4190    1.15070   -2.8109    9.8108  \n",
       "\n",
       "[5 rows x 961 columns]"
      ]
     },
     "execution_count": 3,
     "metadata": {},
     "output_type": "execute_result"
    }
   ],
   "source": [
    "import pandas as pd\n",
    "ori_train_data = pd.read_csv('train.csv', header=None)\n",
    "ori_test_data = pd.read_csv('test.csv', header=None)\n",
    "\n",
    "print(ori_train_data.shape)\n",
    "print(ori_test_data.shape)\n",
    "ori_test_data.head()"
   ]
  },
  {
   "cell_type": "code",
   "execution_count": 4,
   "id": "6ffdbf96",
   "metadata": {},
   "outputs": [
    {
     "data": {
      "text/html": [
       "<div>\n",
       "<style scoped>\n",
       "    .dataframe tbody tr th:only-of-type {\n",
       "        vertical-align: middle;\n",
       "    }\n",
       "\n",
       "    .dataframe tbody tr th {\n",
       "        vertical-align: top;\n",
       "    }\n",
       "\n",
       "    .dataframe thead th {\n",
       "        text-align: right;\n",
       "    }\n",
       "</style>\n",
       "<table border=\"1\" class=\"dataframe\">\n",
       "  <thead>\n",
       "    <tr style=\"text-align: right;\">\n",
       "      <th></th>\n",
       "      <th>1</th>\n",
       "      <th>2</th>\n",
       "      <th>3</th>\n",
       "      <th>4</th>\n",
       "      <th>5</th>\n",
       "      <th>6</th>\n",
       "      <th>7</th>\n",
       "      <th>8</th>\n",
       "      <th>9</th>\n",
       "      <th>10</th>\n",
       "      <th>...</th>\n",
       "      <th>951</th>\n",
       "      <th>952</th>\n",
       "      <th>953</th>\n",
       "      <th>954</th>\n",
       "      <th>955</th>\n",
       "      <th>956</th>\n",
       "      <th>957</th>\n",
       "      <th>958</th>\n",
       "      <th>959</th>\n",
       "      <th>960</th>\n",
       "    </tr>\n",
       "  </thead>\n",
       "  <tbody>\n",
       "    <tr>\n",
       "      <th>0</th>\n",
       "      <td>-1.8226</td>\n",
       "      <td>8.51070</td>\n",
       "      <td>-0.53551</td>\n",
       "      <td>-2.03440</td>\n",
       "      <td>2.2282</td>\n",
       "      <td>2.04870</td>\n",
       "      <td>-5.81380</td>\n",
       "      <td>-4.4169</td>\n",
       "      <td>2.3129</td>\n",
       "      <td>0.808290</td>\n",
       "      <td>...</td>\n",
       "      <td>42.9860</td>\n",
       "      <td>-5.74060</td>\n",
       "      <td>12.5650</td>\n",
       "      <td>41.23100</td>\n",
       "      <td>-6.77570</td>\n",
       "      <td>1.72780</td>\n",
       "      <td>15.9120</td>\n",
       "      <td>23.583000</td>\n",
       "      <td>3.9158</td>\n",
       "      <td>35.7250</td>\n",
       "    </tr>\n",
       "    <tr>\n",
       "      <th>1</th>\n",
       "      <td>1.2816</td>\n",
       "      <td>-0.49410</td>\n",
       "      <td>-0.19667</td>\n",
       "      <td>1.05510</td>\n",
       "      <td>-1.9280</td>\n",
       "      <td>1.07120</td>\n",
       "      <td>-0.19667</td>\n",
       "      <td>-4.6669</td>\n",
       "      <td>3.8230</td>\n",
       "      <td>-3.245900</td>\n",
       "      <td>...</td>\n",
       "      <td>-1.0809</td>\n",
       "      <td>-20.50300</td>\n",
       "      <td>47.7540</td>\n",
       "      <td>2.88560</td>\n",
       "      <td>-6.86660</td>\n",
       "      <td>6.29350</td>\n",
       "      <td>-4.8789</td>\n",
       "      <td>-1.300100</td>\n",
       "      <td>-1.4275</td>\n",
       "      <td>-3.4192</td>\n",
       "    </tr>\n",
       "    <tr>\n",
       "      <th>2</th>\n",
       "      <td>-2.0304</td>\n",
       "      <td>-0.27552</td>\n",
       "      <td>-0.58236</td>\n",
       "      <td>-5.95250</td>\n",
       "      <td>7.3550</td>\n",
       "      <td>2.16640</td>\n",
       "      <td>-4.71510</td>\n",
       "      <td>17.1580</td>\n",
       "      <td>15.5120</td>\n",
       "      <td>-0.822280</td>\n",
       "      <td>...</td>\n",
       "      <td>6.7940</td>\n",
       "      <td>-10.71800</td>\n",
       "      <td>-4.5436</td>\n",
       "      <td>1.38680</td>\n",
       "      <td>-5.32100</td>\n",
       "      <td>-6.08350</td>\n",
       "      <td>-1.3021</td>\n",
       "      <td>-10.569000</td>\n",
       "      <td>-4.2189</td>\n",
       "      <td>-1.6538</td>\n",
       "    </tr>\n",
       "    <tr>\n",
       "      <th>3</th>\n",
       "      <td>-1.0026</td>\n",
       "      <td>0.41320</td>\n",
       "      <td>0.62058</td>\n",
       "      <td>-0.34226</td>\n",
       "      <td>-0.2027</td>\n",
       "      <td>-0.92619</td>\n",
       "      <td>0.61123</td>\n",
       "      <td>-2.0824</td>\n",
       "      <td>-3.5442</td>\n",
       "      <td>-0.043659</td>\n",
       "      <td>...</td>\n",
       "      <td>-2.0824</td>\n",
       "      <td>-2.90100</td>\n",
       "      <td>4.5538</td>\n",
       "      <td>-0.77261</td>\n",
       "      <td>4.25520</td>\n",
       "      <td>0.27911</td>\n",
       "      <td>4.7744</td>\n",
       "      <td>-5.695200</td>\n",
       "      <td>-18.7410</td>\n",
       "      <td>58.3810</td>\n",
       "    </tr>\n",
       "    <tr>\n",
       "      <th>4</th>\n",
       "      <td>1.2754</td>\n",
       "      <td>25.84200</td>\n",
       "      <td>5.80000</td>\n",
       "      <td>2.89000</td>\n",
       "      <td>3.1957</td>\n",
       "      <td>4.45040</td>\n",
       "      <td>5.99760</td>\n",
       "      <td>-6.4947</td>\n",
       "      <td>2.9189</td>\n",
       "      <td>3.202700</td>\n",
       "      <td>...</td>\n",
       "      <td>3.3839</td>\n",
       "      <td>-0.97276</td>\n",
       "      <td>3.8810</td>\n",
       "      <td>7.13330</td>\n",
       "      <td>0.70157</td>\n",
       "      <td>-1.69570</td>\n",
       "      <td>1.2263</td>\n",
       "      <td>-0.093752</td>\n",
       "      <td>-1.7140</td>\n",
       "      <td>2.5131</td>\n",
       "    </tr>\n",
       "  </tbody>\n",
       "</table>\n",
       "<p>5 rows × 960 columns</p>\n",
       "</div>"
      ],
      "text/plain": [
       "      1         2        3        4       5        6        7        8    \\\n",
       "0 -1.8226   8.51070 -0.53551 -2.03440  2.2282  2.04870 -5.81380  -4.4169   \n",
       "1  1.2816  -0.49410 -0.19667  1.05510 -1.9280  1.07120 -0.19667  -4.6669   \n",
       "2 -2.0304  -0.27552 -0.58236 -5.95250  7.3550  2.16640 -4.71510  17.1580   \n",
       "3 -1.0026   0.41320  0.62058 -0.34226 -0.2027 -0.92619  0.61123  -2.0824   \n",
       "4  1.2754  25.84200  5.80000  2.89000  3.1957  4.45040  5.99760  -6.4947   \n",
       "\n",
       "       9         10   ...      951       952      953       954      955  \\\n",
       "0   2.3129  0.808290  ...  42.9860  -5.74060  12.5650  41.23100 -6.77570   \n",
       "1   3.8230 -3.245900  ...  -1.0809 -20.50300  47.7540   2.88560 -6.86660   \n",
       "2  15.5120 -0.822280  ...   6.7940 -10.71800  -4.5436   1.38680 -5.32100   \n",
       "3  -3.5442 -0.043659  ...  -2.0824  -2.90100   4.5538  -0.77261  4.25520   \n",
       "4   2.9189  3.202700  ...   3.3839  -0.97276   3.8810   7.13330  0.70157   \n",
       "\n",
       "       956      957        958      959      960  \n",
       "0  1.72780  15.9120  23.583000   3.9158  35.7250  \n",
       "1  6.29350  -4.8789  -1.300100  -1.4275  -3.4192  \n",
       "2 -6.08350  -1.3021 -10.569000  -4.2189  -1.6538  \n",
       "3  0.27911   4.7744  -5.695200 -18.7410  58.3810  \n",
       "4 -1.69570   1.2263  -0.093752  -1.7140   2.5131  \n",
       "\n",
       "[5 rows x 960 columns]"
      ]
     },
     "execution_count": 4,
     "metadata": {},
     "output_type": "execute_result"
    }
   ],
   "source": [
    "# Split Data\n",
    "train_data = ori_train_data.drop([0, 961], axis = 1)\n",
    "train_labels = ori_train_data[[961]] - 1\n",
    "\n",
    "test_data = ori_test_data.drop([0], axis = 1)\n",
    "train_data.head()"
   ]
  },
  {
   "cell_type": "code",
   "execution_count": 5,
   "id": "f97fe33b",
   "metadata": {},
   "outputs": [
    {
     "name": "stdout",
     "output_type": "stream",
     "text": [
      "(9388, 960)\n",
      "(9388, 960)\n"
     ]
    }
   ],
   "source": [
    "print(train_data.shape)\n",
    "print(train_data.shape)"
   ]
  },
  {
   "cell_type": "code",
   "execution_count": 6,
   "id": "6ee2ac51",
   "metadata": {},
   "outputs": [
    {
     "name": "stdout",
     "output_type": "stream",
     "text": [
      "(9388, 961)\n",
      "(2959, 960)\n"
     ]
    }
   ],
   "source": [
    "train_data_label = ori_train_data.drop([0], axis = 1)\n",
    "print(train_data_label.shape)\n",
    "print(test_data.shape)"
   ]
  },
  {
   "cell_type": "code",
   "execution_count": 56,
   "id": "43544c24",
   "metadata": {},
   "outputs": [],
   "source": [
    "#Shuffle\n",
    "from sklearn.utils import shuffle\n",
    "ori_train_shuffle_data = shuffle(ori_train_data)"
   ]
  },
  {
   "cell_type": "code",
   "execution_count": 7,
   "id": "b416d00a",
   "metadata": {},
   "outputs": [
    {
     "name": "stdout",
     "output_type": "stream",
     "text": [
      "Counter({2: 590, 8: 586, 5: 580, 7: 580, 1: 579, 9: 579, 0: 578, 4: 577, 3: 571, 6: 570, 12: 196, 11: 195, 19: 195, 15: 194, 16: 193, 18: 193, 10: 190, 13: 190, 14: 190, 17: 190, 20: 98, 23: 98, 25: 98, 26: 98, 21: 97, 22: 97, 27: 97, 28: 97, 24: 96, 29: 95, 30: 49, 32: 49, 36: 49, 37: 49, 39: 49, 31: 48, 33: 48, 34: 48, 38: 48, 35: 47, 41: 25, 40: 24, 42: 24, 43: 24, 44: 24, 45: 24, 46: 24, 47: 24, 48: 24})\n"
     ]
    }
   ],
   "source": [
    "#Distribution of labels\n",
    "\n",
    "from collections import Counter\n",
    "\n",
    "labels = []\n",
    "for item in train_labels.values.tolist():\n",
    "    for j in item:\n",
    "      labels.append(j)\n",
    "\n",
    "# print(len(labels))\n",
    "print(Counter(labels))"
   ]
  },
  {
   "cell_type": "code",
   "execution_count": 8,
   "id": "0f8dbc5a",
   "metadata": {},
   "outputs": [
    {
     "data": {
      "image/png": "[encoded data removed]",
      "text/plain": [
       "<Figure size 432x288 with 1 Axes>"
      ]
     },
     "metadata": {
      "needs_background": "light"
     },
     "output_type": "display_data"
    }
   ],
   "source": [
    "import matplotlib.pyplot as plt\n",
    "\n",
    "\n",
    "label_count = Counter(labels)\n",
    "\n",
    "label_class = []\n",
    "label_num = []\n",
    "\n",
    "for item in label_count.items():\n",
    "    label_class.append(item[0])\n",
    "    label_num.append(item[1])\n",
    "\n",
    "# print(len(label_class))\n",
    "# print(len(label_count))\n",
    "\n",
    "plt.bar(range(len(label_class)), label_num, tick_label=label_class)\n",
    "plt.show()"
   ]
  },
  {
   "cell_type": "code",
   "execution_count": 9,
   "id": "952d629c",
   "metadata": {},
   "outputs": [],
   "source": [
    "#3000 Train data\n",
    "train_3000_data = ori_train_data.sample(n=3000, frac=None, replace=False, weights=None, random_state=None, axis=None)"
   ]
  },
  {
   "cell_type": "code",
   "execution_count": 10,
   "id": "8fc4f142",
   "metadata": {},
   "outputs": [
    {
     "name": "stdout",
     "output_type": "stream",
     "text": [
      "9388\n",
      "3000\n",
      "6388\n"
     ]
    }
   ],
   "source": [
    "from pandas.core.frame import DataFrame\n",
    "ori_train_data_list = ori_train_data.values.tolist()\n",
    "train_3000_data_list = train_3000_data.values.tolist()\n",
    "print(len(ori_train_data_list))\n",
    "print(len(train_3000_data_list))\n",
    "test_list = [i for i in ori_train_data_list if i not in train_3000_data_list] \n",
    "print(len(test_list))\n",
    "\n",
    "#6000 for develop data\n",
    "test_6000_data = DataFrame(test_list)"
   ]
  },
  {
   "cell_type": "code",
   "execution_count": 11,
   "id": "5e755d39",
   "metadata": {},
   "outputs": [
    {
     "name": "stdout",
     "output_type": "stream",
     "text": [
      "(3000, 960)\n",
      "(3000, 1)\n"
     ]
    }
   ],
   "source": [
    "train_3000_data_spe =train_3000_data.drop([0, 961], axis = 1)\n",
    "train_3000_label = train_3000_data[[961]] - 1\n",
    "\n",
    "test_6000_data_spe = test_6000_data.drop([0, 961], axis = 1)\n",
    "test_6000_data_label = test_6000_data[[961]] - 1\n",
    "\n",
    "print(train_3000_data_spe.shape)\n",
    "print(train_3000_label.shape)"
   ]
  },
  {
   "cell_type": "code",
   "execution_count": 12,
   "id": "8eb8158b",
   "metadata": {},
   "outputs": [
    {
     "name": "stdout",
     "output_type": "stream",
     "text": [
      "(9849, 960)\n"
     ]
    }
   ],
   "source": [
    "#Deal with label imbalance\n",
    "from imblearn.over_sampling import SMOTE\n",
    "sm = SMOTE(k_neighbors=2)\n",
    "X_train_up, y_train_up = sm.fit_resample(train_3000_data_spe,train_3000_label)\n",
    "print(X_train_up.shape)"
   ]
  },
  {
   "cell_type": "code",
   "execution_count": 13,
   "id": "0f40a0be",
   "metadata": {},
   "outputs": [
    {
     "name": "stdout",
     "output_type": "stream",
     "text": [
      "Counter({24: 201, 34: 201, 7: 201, 13: 201, 16: 201, 26: 201, 25: 201, 6: 201, 0: 201, 21: 201, 10: 201, 3: 201, 8: 201, 12: 201, 15: 201, 4: 201, 9: 201, 19: 201, 2: 201, 39: 201, 5: 201, 23: 201, 1: 201, 14: 201, 28: 201, 29: 201, 11: 201, 17: 201, 45: 201, 36: 201, 35: 201, 20: 201, 18: 201, 47: 201, 38: 201, 27: 201, 48: 201, 37: 201, 33: 201, 42: 201, 32: 201, 30: 201, 40: 201, 22: 201, 46: 201, 31: 201, 44: 201, 43: 201, 41: 201})\n"
     ]
    }
   ],
   "source": [
    "\n",
    "from collections import Counter\n",
    "\n",
    "labels = []\n",
    "for item in y_train_up.values.tolist():\n",
    "    for j in item:\n",
    "      labels.append(j)\n",
    "\n",
    "# print(len(labels))\n",
    "print(Counter(labels))"
   ]
  },
  {
   "cell_type": "code",
   "execution_count": 14,
   "id": "5c7893d9",
   "metadata": {},
   "outputs": [
    {
     "data": {
      "image/png": "[encoded data removed]",
      "text/plain": [
       "<Figure size 432x288 with 1 Axes>"
      ]
     },
     "metadata": {
      "needs_background": "light"
     },
     "output_type": "display_data"
    }
   ],
   "source": [
    "import matplotlib.pyplot as plt\n",
    "\n",
    "\n",
    "label_count = Counter(labels)\n",
    "\n",
    "label_class = []\n",
    "label_num = []\n",
    "\n",
    "for item in label_count.items():\n",
    "    label_class.append(item[0])\n",
    "    label_num.append(item[1])\n",
    "\n",
    "# print(len(label_class))\n",
    "# print(len(label_count))\n",
    "\n",
    "plt.bar(range(len(label_class)), label_num, tick_label=label_class)\n",
    "plt.show()"
   ]
  },
  {
   "cell_type": "code",
   "execution_count": 15,
   "id": "6ed804dc",
   "metadata": {},
   "outputs": [
    {
     "name": "stdout",
     "output_type": "stream",
     "text": [
      "(9849, 960)\n"
     ]
    }
   ],
   "source": [
    "#Scale\n",
    "from sklearn.preprocessing import StandardScaler\n",
    "from sklearn.preprocessing import MinMaxScaler\n",
    "\n",
    "scaler = StandardScaler()\n",
    "#scaler = StandardScaler()\n",
    "\n",
    "train_sc = scaler.fit_transform(X_train_up)\n",
    "test_sc = scaler.transform(test_6000_data_spe)\n",
    "\n",
    "print(train_sc.shape)"
   ]
  },
  {
   "cell_type": "code",
   "execution_count": 18,
   "id": "b30fef4b",
   "metadata": {},
   "outputs": [],
   "source": [
    "# K-means for self-supervised \n",
    "\n",
    "import numpy as np\n",
    "\n",
    "def distEclud(vecA, vecB):\n",
    "    return np.sqrt(sum(np.power(vecA - vecB, 2)))\n",
    " \n",
    "def newCent(L):\n",
    "    centroids = []\n",
    "    label_list = np.unique(L[:,-1])\n",
    "    for i in label_list:\n",
    "        L_i = L[(L[:,-1])==i]\n",
    "        cent_i = np.mean(L_i,0)\n",
    "        centroids.append(cent_i[:-1])\n",
    "    return np.array(centroids) \n",
    "\n",
    "def semi_kMeans(L, U, distMeas=distEclud, initial_centriod=newCent):\n",
    "    dataSet = np.vstack((L[:,:-1],U))#combine L and U\n",
    "    label_list = np.unique(L[:,-1])\n",
    "    k = len(label_list)           #features in L\n",
    "    m = np.shape(dataSet)[0]\n",
    "    \n",
    "    clusterAssment = np.zeros(m)#Initialise data distribution                             \n",
    "    centroids = initial_centriod(L)\n",
    "    clusterChanged = True\n",
    "    while clusterChanged:\n",
    "        clusterChanged = False\n",
    "        for i in range(m):\n",
    "            minDist = np.inf; minIndex = -1\n",
    "            for j in range(k):\n",
    "                distJI = distMeas(centroids[j,:],dataSet[i,:])\n",
    "                if distJI < minDist:\n",
    "                    minDist = distJI; minIndex = j\n",
    "            if clusterAssment[i] != minIndex: clusterChanged = True\n",
    "            clusterAssment[i] = minIndex\n",
    "    return clusterAssment  \n",
    "    \n",
    "\n",
    "\n"
   ]
  },
  {
   "cell_type": "code",
   "execution_count": null,
   "id": "c0ab9d52",
   "metadata": {},
   "outputs": [],
   "source": []
  }
 ],
 "metadata": {
  "kernelspec": {
   "display_name": "Python 3 (ipykernel)",
   "language": "python",
   "name": "python3"
  },
  "language_info": {
   "codemirror_mode": {
    "name": "ipython",
    "version": 3
   },
   "file_extension": ".py",
   "mimetype": "text/x-python",
   "name": "python",
   "nbconvert_exporter": "python",
   "pygments_lexer": "ipython3",
   "version": "3.9.2"
  }
 },
 "nbformat": 4,
 "nbformat_minor": 5
}
