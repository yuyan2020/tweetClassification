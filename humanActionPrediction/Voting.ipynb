{
 "cells": [
  {
   "cell_type": "code",
   "execution_count": null,
   "id": "6bf36f37",
   "metadata": {},
   "outputs": [],
   "source": [
    "# %load vote.py\n",
    "import pandas as pd \n",
    "import numpy as np\n",
    "from collections import Counter\n",
    "# p1 = pd.read_csv('predictions.csv')\n",
    "# p2 = pd.read_csv('predictions2.csv')\n",
    "# p3 = pd.read_csv('predictions3.csv')\n",
    "# p4 = pd.read_csv('predictions4.csv')\n",
    "path = ['1.csv', '2.csv', '3.csv','4.csv','5.csv','6.csv']\n",
    "# import ipdb;ipdb.set_trace()\n",
    "predicts = [pd.read_csv(p) for p in path]\n",
    "\n",
    "res = []\n",
    "for i in range(2959):\n",
    "    c = Counter()\n",
    "    for pre in predicts:\n",
    "        c[pre.loc[i].Category] += 1\n",
    "    # import ipdb;ipdb.set_trace()\n",
    "    \n",
    "    r = c.most_common(1)\n",
    "    res.append([i,r[0][0]])\n",
    "df = pd.DataFrame(res, columns = ['Id','Category'])\n",
    "df.to_csv('submit.csv',index=False)\n",
    "\n",
    "import ipdb;ipdb.set_trace()\n"
   ]
  },
  {
   "cell_type": "code",
   "execution_count": null,
   "id": "c904b6e5",
   "metadata": {},
   "outputs": [],
   "source": []
  }
 ],
 "metadata": {
  "kernelspec": {
   "display_name": "Python 3 (ipykernel)",
   "language": "python",
   "name": "python3"
  },
  "language_info": {
   "codemirror_mode": {
    "name": "ipython",
    "version": 3
   },
   "file_extension": ".py",
   "mimetype": "text/x-python",
   "name": "python",
   "nbconvert_exporter": "python",
   "pygments_lexer": "ipython3",
   "version": "3.9.2"
  }
 },
 "nbformat": 4,
 "nbformat_minor": 5
}
