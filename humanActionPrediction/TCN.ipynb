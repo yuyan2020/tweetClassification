{
 "cells": [
  {
   "cell_type": "markdown",
   "metadata": {
    "id": "Klqy0iP7LhPa"
   },
   "source": [
    "Loading the Packages & Configuration"
   ]
  },
  {
   "cell_type": "code",
   "execution_count": 2,
   "metadata": {
    "executionInfo": {
     "elapsed": 5477,
     "status": "ok",
     "timestamp": 1630500526637,
     "user": {
      "displayName": "troy cao",
      "photoUrl": "",
      "userId": "07726115307262362470"
     },
     "user_tz": -600
    },
    "id": "KsbTQorbLfcR"
   },
   "outputs": [],
   "source": [
    "import json\n",
    "# import nltk\n",
    "import string\n",
    "import numpy as np\n",
    "import pandas as pd\n",
    "import re\n",
    "from sklearn.preprocessing import LabelEncoder \n",
    "# import torch\n",
    "# import torch.nn as nn\n",
    "from collections import defaultdict\n",
    "import random\n",
    "# from tqdm import tqdm "
   ]
  },
  {
   "cell_type": "markdown",
   "metadata": {
    "id": "GSWBWVe1Lz5L"
   },
   "source": [
    "Loading the Dataset"
   ]
  },
  {
   "cell_type": "code",
   "execution_count": 1050,
   "metadata": {
    "colab": {
     "base_uri": "https://localhost:8080/"
    },
    "executionInfo": {
     "elapsed": 3067,
     "status": "ok",
     "timestamp": 1630501273529,
     "user": {
      "displayName": "troy cao",
      "photoUrl": "",
      "userId": "07726115307262362470"
     },
     "user_tz": -600
    },
    "id": "dyGaK3LXL2m-",
    "outputId": "09617a21-f5b9-4f0b-9564-46e087ef763c"
   },
   "outputs": [
    {
     "name": "stdout",
     "output_type": "stream",
     "text": [
      "(9388, 962)\n",
      "(2959, 961)\n"
     ]
    }
   ],
   "source": [
    "ori_train_data = pd.read_csv('train.csv', header=None)\n",
    "ori_test_data = pd.read_csv('test.csv', header=None)\n",
    "\n",
    "print(ori_train_data.shape)\n",
    "print(ori_test_data.shape)\n"
   ]
  },
  {
   "cell_type": "code",
   "execution_count": 1056,
   "metadata": {
    "executionInfo": {
     "elapsed": 4,
     "status": "ok",
     "timestamp": 1630501277751,
     "user": {
      "displayName": "troy cao",
      "photoUrl": "",
      "userId": "07726115307262362470"
     },
     "user_tz": -600
    },
    "id": "tqq6c8a-OgRo"
   },
   "outputs": [],
   "source": [
    "train_data = ori_train_data.drop([0, 961], axis = 1)\n",
    "train_labels = ori_train_data[[961]]-1"
   ]
  },
  {
   "cell_type": "code",
   "execution_count": 1010,
   "metadata": {},
   "outputs": [],
   "source": [
    "ori_train_data = np.array(ori_train_data)\n",
    "\n",
    "train_data = ori_train_data[:,:-1]\n",
    "train_labels = ori_train_data[:,-1]"
   ]
  },
  {
   "cell_type": "code",
   "execution_count": null,
   "metadata": {},
   "outputs": [],
   "source": []
  },
  {
   "cell_type": "code",
   "execution_count": 809,
   "metadata": {},
   "outputs": [],
   "source": [
    "# from pyod.models.abod import ABOD"
   ]
  },
  {
   "cell_type": "code",
   "execution_count": 810,
   "metadata": {},
   "outputs": [
    {
     "data": {
      "text/plain": [
       "ABOD(contamination=0.01, method='fast', n_neighbors=10)"
      ]
     },
     "execution_count": 810,
     "metadata": {},
     "output_type": "execute_result"
    }
   ],
   "source": [
    "# abod = ABOD(n_neighbors=10,contamination=0.01)\n",
    "# abod.fit(train_data)"
   ]
  },
  {
   "cell_type": "code",
   "execution_count": 811,
   "metadata": {},
   "outputs": [
    {
     "name": "stdout",
     "output_type": "stream",
     "text": [
      "[-1.19258461e-15 -5.17231050e-14 -2.90290498e-14 ... -2.62514096e-13\n",
      " -9.07475293e-14 -2.86783786e-14]\n",
      "-2.267650968246461e-17\n",
      "94\n"
     ]
    }
   ],
   "source": [
    "# scores = abod.decision_scores_\n",
    "# th = abod.threshold_\n",
    "# print(score)\n",
    "# print(abod.threshold_)\n",
    "# ol = []\n",
    "# for i in range(len(scores)):\n",
    "#     if scores[i] >= th:\n",
    "#         ol.append(i)\n",
    "# print(len(ol))"
   ]
  },
  {
   "cell_type": "code",
   "execution_count": 1057,
   "metadata": {},
   "outputs": [
    {
     "name": "stdout",
     "output_type": "stream",
     "text": [
      "(9388, 960)\n"
     ]
    }
   ],
   "source": [
    "# train_data = np.array(train_data)\n",
    "# train_labels = np.array(train_labels)\n",
    "# print(train_data.shape)"
   ]
  },
  {
   "cell_type": "code",
   "execution_count": 813,
   "metadata": {},
   "outputs": [],
   "source": [
    "# train_data = np.delete(train_data,ol,0)\n",
    "# train_labels = np.delete(train_labels,ol,0)"
   ]
  },
  {
   "cell_type": "code",
   "execution_count": 814,
   "metadata": {},
   "outputs": [],
   "source": [
    "train_data = pd.DataFrame(train_data)\n",
    "train_labels = pd.DataFrame(train_labels)"
   ]
  },
  {
   "cell_type": "code",
   "execution_count": 1058,
   "metadata": {},
   "outputs": [],
   "source": [
    "train_labels = np.array(train_labels).reshape(-1,)"
   ]
  },
  {
   "cell_type": "code",
   "execution_count": 1060,
   "metadata": {},
   "outputs": [],
   "source": [
    "from sklearn.model_selection import train_test_split\n",
    "\n",
    "x_train, x_test, y_train, y_test = train_test_split(train_data, train_labels, test_size=0.3, random_state=0)"
   ]
  },
  {
   "cell_type": "code",
   "execution_count": 1059,
   "metadata": {
    "id": "655ak0r_OgTa"
   },
   "outputs": [],
   "source": [
    "from imblearn.over_sampling import SMOTE\n",
    "sm = SMOTE()\n",
    "train_data,train_labels = sm.fit_resample(train_data,train_labels)"
   ]
  },
  {
   "cell_type": "code",
   "execution_count": 926,
   "metadata": {},
   "outputs": [
    {
     "name": "stdout",
     "output_type": "stream",
     "text": [
      "Counter({2: 485, 8: 473, 5: 472, 1: 472, 7: 470, 9: 466, 4: 457, 6: 453, 0: 450, 3: 447, 16: 159, 12: 158, 15: 157, 18: 155, 13: 155, 19: 154, 14: 153, 17: 147, 10: 147, 11: 145, 20: 84, 28: 83, 21: 79, 24: 78, 26: 78, 25: 78, 23: 78, 22: 74, 27: 74, 29: 66, 37: 42, 34: 41, 36: 40, 33: 40, 39: 40, 31: 39, 35: 38, 38: 37, 30: 36, 32: 34, 46: 24, 41: 21, 45: 21, 44: 20, 47: 19, 40: 19, 43: 18, 42: 18, 48: 16})\n",
      "Counter({0: 128, 3: 124, 4: 120, 6: 117, 8: 113, 9: 113, 7: 110, 5: 108, 1: 107, 2: 105, 11: 50, 17: 43, 10: 43, 19: 41, 18: 38, 12: 38, 15: 37, 14: 37, 13: 35, 16: 34, 29: 29, 22: 23, 27: 23, 26: 20, 25: 20, 23: 20, 21: 18, 24: 18, 32: 15, 28: 14, 20: 14, 30: 13, 38: 11, 36: 9, 39: 9, 31: 9, 35: 9, 48: 8, 33: 8, 37: 7, 34: 7, 42: 6, 43: 6, 40: 5, 47: 5, 41: 4, 44: 4, 45: 3})\n"
     ]
    }
   ],
   "source": [
    "from collections import Counter\n",
    "labels = []\n",
    "for label in train_labels:\n",
    "    labels.append(label)\n",
    "print(Counter(labels))\n",
    "labels = []\n",
    "for label in test_l:\n",
    "    labels.append(label)\n",
    "print(Counter(labels))"
   ]
  },
  {
   "cell_type": "code",
   "execution_count": 826,
   "metadata": {},
   "outputs": [],
   "source": [
    "split_1 = []\n",
    "l_1 = []\n",
    "split_2 = []\n",
    "l_2 = []\n",
    "for i in range(len(train_labels)):\n",
    "    if train_labels[i] >= 20:\n",
    "        split_2.append(train_data[i])\n",
    "        l_2.append(train_labels[i])\n",
    "    else:\n",
    "        split_1.append(train_data[i])\n",
    "        l_1.append(train_labels[i])\n",
    "split_1 = np.array(split_1)\n",
    "split_2 = np.array(split_2)\n",
    "l_1 = np.array(l_1)\n",
    "l_2 = np.array(l_2)"
   ]
  },
  {
   "cell_type": "code",
   "execution_count": 827,
   "metadata": {},
   "outputs": [],
   "source": [
    "oversample = SMOTE()\n",
    "undersample = imblearn.under_sampling.RandomUnderSampler()\n",
    "train_data_2, train_labels_2 = oversample.fit_resample(split_2, l_2)\n",
    "train_data_1, train_labels_1 = undersample.fit_resample(split_1,l_1)"
   ]
  },
  {
   "cell_type": "code",
   "execution_count": 829,
   "metadata": {},
   "outputs": [
    {
     "name": "stdout",
     "output_type": "stream",
     "text": [
      "(2262, 960)\n"
     ]
    }
   ],
   "source": [
    "print(train_data_2.shape)\n",
    "train_data = np.append(train_data_1,train_data_2,axis=0)\n",
    "train_labels = np.append(train_labels_1,train_labels_2,axis=0)"
   ]
  },
  {
   "cell_type": "code",
   "execution_count": 876,
   "metadata": {},
   "outputs": [
    {
     "name": "stdout",
     "output_type": "stream",
     "text": [
      "(23765, 960)\n"
     ]
    }
   ],
   "source": [
    "print(train_data.shape)"
   ]
  },
  {
   "cell_type": "code",
   "execution_count": 788,
   "metadata": {},
   "outputs": [],
   "source": [
    "t = []\n",
    "l = []\n",
    "for i in range(49):\n",
    "    for j in range(len(train_data)):\n",
    "        if train_labels[j] == i:\n",
    "            t.append(train_data[j])\n",
    "            l.append(train_labels[j])"
   ]
  },
  {
   "cell_type": "code",
   "execution_count": 789,
   "metadata": {},
   "outputs": [],
   "source": [
    "t = np.array(t)\n",
    "l = np.array(l)\n",
    "train_data = t\n",
    "train_labels = l"
   ]
  },
  {
   "cell_type": "code",
   "execution_count": 790,
   "metadata": {},
   "outputs": [
    {
     "name": "stdout",
     "output_type": "stream",
     "text": [
      "(23471, 960)\n"
     ]
    }
   ],
   "source": [
    "print(train_data.shape)"
   ]
  },
  {
   "cell_type": "code",
   "execution_count": null,
   "metadata": {},
   "outputs": [],
   "source": []
  },
  {
   "cell_type": "code",
   "execution_count": 577,
   "metadata": {},
   "outputs": [],
   "source": [
    "import imblearn\n",
    "from imblearn.over_sampling import SMOTE\n",
    "from imblearn.combine import SMOTEENN\n",
    "strategy = {0:590,1:590, 2:590,3:590, 4:590, 5: 590, \n",
    "            6:590, 7:590,8:590, 9:590, 10: 200,\n",
    "            11:200, 12:200,13:200, 14:200, 15: 200,\n",
    "            16:200, 17:200,18:200, 19:200, 20: 100,\n",
    "            21:100, 22:100,23:100, 24:100, 25: 100,\n",
    "            26:100, 27:100,28:100, 29:100, 30: 100,\n",
    "            31:100, 32:100,33:100, 34:100, 35: 100,\n",
    "            36:100, 37:100,38:100, 39:100, 40: 100,\n",
    "            41:100, 42:100,43:100, 44:100, 45: 100,\n",
    "            46:100, 47:100,48:100}\n",
    "\n",
    "strategy2 = {0:100,1:100, 2:100,3:100, 4:100, 5: 100, \n",
    "            6:100, 7:100,8:100, 9:100, 10: 100,\n",
    "            11:100, 12:100,13:100, 14:100, 15: 100,\n",
    "            16:100, 17:100,18:100, 19:100, 20: 100,\n",
    "            21:100, 22:100,23:100, 24:100, 25: 100,\n",
    "            26:100, 27:100,28:100, 29:100, 30: 100,\n",
    "            31:100, 32:100,33:100, 34:100, 35: 100,\n",
    "            36:100, 37:100,38:100, 39:100, 40: 100,\n",
    "            41:100, 42:100,43:100, 44:100, 45: 100,\n",
    "            46:100, 47:100,48:100}\n",
    "\n",
    "oversample = SMOTE(sampling_strategy=strategy)\n",
    "undersample = imblearn.under_sampling.RandomUnderSampler(sampling_strategy=strategy2)\n",
    "train_data, train_labels = oversample.fit_resample(train_data, train_labels)\n",
    "train_data, train_labels = undersample.fit_resample(train_data, train_labels)\n",
    "# comb = SMOTEENN(sampling_strategy=s)\n",
    "# train_data,train_labels = comb.fit_resample(train_data,train_labels)\n"
   ]
  },
  {
   "cell_type": "code",
   "execution_count": 927,
   "metadata": {},
   "outputs": [
    {
     "name": "stdout",
     "output_type": "stream",
     "text": [
      "7510\n"
     ]
    }
   ],
   "source": [
    "print(len(train_data))"
   ]
  },
  {
   "cell_type": "code",
   "execution_count": 985,
   "metadata": {},
   "outputs": [],
   "source": [
    "train_data = np.array(train_data).reshape(-1,960)\n",
    "train_labels = np.array(train_labels).reshape(-1,)"
   ]
  },
  {
   "cell_type": "code",
   "execution_count": 763,
   "metadata": {},
   "outputs": [],
   "source": [
    "train_data = np.array(train_data).reshape(28910,960)\n",
    "train_labels = np.array(train_labels).reshape(28910,)"
   ]
  },
  {
   "cell_type": "code",
   "execution_count": 877,
   "metadata": {},
   "outputs": [],
   "source": [
    "train_data = np.array(train_data).reshape(23765,960)\n",
    "train_labels = np.array(train_labels).reshape(23765,)"
   ]
  },
  {
   "cell_type": "code",
   "execution_count": 764,
   "metadata": {},
   "outputs": [],
   "source": [
    "import random\n",
    "\n",
    "test_idx = []\n",
    "\n",
    "for i in range(49):\n",
    "    count = 0\n",
    "    while count < 118:\n",
    "        idx = random.randint(0,589)\n",
    "        idx = i*590 + idx\n",
    "        if idx not in test_idx:\n",
    "            test_idx.append(idx)\n",
    "            count += 1\n",
    "\n",
    "train = []\n",
    "train_l = []\n",
    "test = []\n",
    "test_l = []\n",
    "\n",
    "for idx in test_idx:\n",
    "    test.append(train_data[idx])\n",
    "    test_l.append(train_labels[idx])\n",
    "\n",
    "train = np.delete(train_data,test_idx,0)\n",
    "train_l = np.delete(train_labels,test_idx,0)"
   ]
  },
  {
   "cell_type": "code",
   "execution_count": 196,
   "metadata": {},
   "outputs": [],
   "source": [
    "train = []\n",
    "train_l = []\n",
    "test = []\n",
    "test_l = []\n",
    "for i in range(49):\n",
    "    count = 0\n",
    "    for j in range(28910):\n",
    "        if train_labels[j] == i and count <472:\n",
    "            train.append(train_data[j])\n",
    "            train_l.append(train_labels[j])\n",
    "            count += 1\n",
    "        elif train_labels[j] == i and count >=472 and count <590:\n",
    "            test.append(train_data[j])\n",
    "            test_l.append(train_labels[j])\n",
    "            count += 1\n",
    "        if count >= 590:\n",
    "            break"
   ]
  },
  {
   "cell_type": "code",
   "execution_count": 249,
   "metadata": {},
   "outputs": [],
   "source": [
    "train = []\n",
    "train_l = []\n",
    "test = []\n",
    "test_l = []\n",
    "for i in range(49):\n",
    "    count = 0\n",
    "    for j in range(28910):\n",
    "        if train_labels[j] == i and count <531:\n",
    "            train.append(train_data[j])\n",
    "            train_l.append(train_labels[j])\n",
    "            count += 1\n",
    "        elif train_labels[j] == i and count >=531 and count <590:\n",
    "            test.append(train_data[j])\n",
    "            test_l.append(train_labels[j])\n",
    "            count += 1\n",
    "        if count >= 590:\n",
    "            break"
   ]
  },
  {
   "cell_type": "code",
   "execution_count": 124,
   "metadata": {},
   "outputs": [],
   "source": [
    "train = []\n",
    "train_l = []\n",
    "test = []\n",
    "test_l = []\n",
    "for i in range(49):\n",
    "    count = 0\n",
    "    for j in range(9800):\n",
    "        if train_labels[j] == i and count <160:\n",
    "            train.append(train_data[j])\n",
    "            train_l.append(train_labels[j])\n",
    "            count += 1\n",
    "        elif train_labels[j] == i and count >=160 and count <200:\n",
    "            test.append(train_data[j])\n",
    "            test_l.append(train_labels[j])\n",
    "            count += 1\n",
    "        if count >= 200:\n",
    "            break"
   ]
  },
  {
   "cell_type": "code",
   "execution_count": 986,
   "metadata": {},
   "outputs": [
    {
     "name": "stdout",
     "output_type": "stream",
     "text": [
      "(9877, 960) (2470, 960)\n"
     ]
    }
   ],
   "source": [
    "train = np.array(train_data)\n",
    "test = np.array(test)\n",
    "# test = np.array(dev_data)\n",
    "train_l = np.array(train_labels)\n",
    "test_l = np.array(test_l)\n",
    "# test_l = np.array(dev_labels)\n",
    "print(train.shape,test.shape)"
   ]
  },
  {
   "cell_type": "markdown",
   "metadata": {
    "id": "HapTi3ajQeLA"
   },
   "source": [
    "Data Inspection"
   ]
  },
  {
   "cell_type": "markdown",
   "metadata": {
    "id": "NtqC671xlXhc"
   },
   "source": [
    "接下来需要做的：\n",
    "1. 数据归一化、标准化处理；（使用PCA降维之前先要进行标准化处理）\n",
    "2. 数据降维；(不考虑特征的时间属性)\n",
    "3. 样本类别不平衡；\n"
   ]
  },
  {
   "cell_type": "markdown",
   "metadata": {
    "id": "-SoxUe4PDrHG"
   },
   "source": [
    "方案2: ，然后使用MLP进行预测；"
   ]
  },
  {
   "cell_type": "code",
   "execution_count": null,
   "metadata": {
    "id": "xIeNj455W_P2"
   },
   "outputs": [],
   "source": [
    "# Counter(dev_labels)"
   ]
  },
  {
   "cell_type": "code",
   "execution_count": 987,
   "metadata": {},
   "outputs": [
    {
     "name": "stdout",
     "output_type": "stream",
     "text": [
      "(9877, 960) (2470, 960)\n",
      "(9877,)\n"
     ]
    }
   ],
   "source": [
    "print(train.shape,test.shape)\n",
    "print(train_l.shape)"
   ]
  },
  {
   "cell_type": "markdown",
   "metadata": {
    "id": "dcosRoPHbnIz"
   },
   "source": [
    "接下来， 我们对数据进行归一化（标准化）处理。"
   ]
  },
  {
   "cell_type": "code",
   "execution_count": 908,
   "metadata": {
    "colab": {
     "base_uri": "https://localhost:8080/"
    },
    "executionInfo": {
     "elapsed": 1042,
     "status": "ok",
     "timestamp": 1630501378640,
     "user": {
      "displayName": "troy cao",
      "photoUrl": "",
      "userId": "07726115307262362470"
     },
     "user_tz": -600
    },
    "id": "-NTvFOMzRfqN",
    "outputId": "1030614e-d1af-4dd0-bcda-fea3311254ca"
   },
   "outputs": [
    {
     "name": "stdout",
     "output_type": "stream",
     "text": [
      "(9877, 960)\n"
     ]
    }
   ],
   "source": [
    "from sklearn.preprocessing import StandardScaler\n",
    "\n",
    "scalar = StandardScaler()\n",
    "train_nor_data = scalar.fit_transform(train)\n",
    "\n",
    "print(train_nor_data.shape)"
   ]
  },
  {
   "cell_type": "code",
   "execution_count": 909,
   "metadata": {
    "colab": {
     "base_uri": "https://localhost:8080/"
    },
    "executionInfo": {
     "elapsed": 458,
     "status": "ok",
     "timestamp": 1630502018134,
     "user": {
      "displayName": "troy cao",
      "photoUrl": "",
      "userId": "07726115307262362470"
     },
     "user_tz": -600
    },
    "id": "lJ1r3hNofH8g",
    "outputId": "34b669ed-0d40-4b38-bdea-dea15bdebf97"
   },
   "outputs": [
    {
     "name": "stdout",
     "output_type": "stream",
     "text": [
      "(9877, 960)\n"
     ]
    }
   ],
   "source": [
    "# train_nor_data = train_nor_data.reshape((-1, 16 ,60))\n",
    "\n",
    "print(train_nor_data.shape)"
   ]
  },
  {
   "cell_type": "code",
   "execution_count": 910,
   "metadata": {},
   "outputs": [
    {
     "name": "stdout",
     "output_type": "stream",
     "text": [
      "(2470, 960)\n"
     ]
    }
   ],
   "source": [
    "test_nor_data = scalar.transform(test)\n",
    "print(test_nor_data.shape)"
   ]
  },
  {
   "cell_type": "code",
   "execution_count": 988,
   "metadata": {},
   "outputs": [
    {
     "name": "stdout",
     "output_type": "stream",
     "text": [
      "(9877, 961)\n"
     ]
    }
   ],
   "source": [
    "train_shuffle = np.append(train,train_l.reshape(-1,1),axis=1)\n",
    "print(train_shuffle.shape)\n",
    "from sklearn.utils import shuffle\n",
    "train_shuffle = shuffle(train_shuffle)"
   ]
  },
  {
   "cell_type": "code",
   "execution_count": 835,
   "metadata": {},
   "outputs": [
    {
     "name": "stdout",
     "output_type": "stream",
     "text": [
      "(5162, 961)\n"
     ]
    }
   ],
   "source": [
    "train_shuffle = np.append(train,train_l.reshape(5162,1),axis=1)\n",
    "print(train_shuffle.shape)\n",
    "from sklearn.utils import shuffle\n",
    "train_shuffle = shuffle(train_shuffle)"
   ]
  },
  {
   "cell_type": "code",
   "execution_count": 879,
   "metadata": {},
   "outputs": [
    {
     "name": "stdout",
     "output_type": "stream",
     "text": [
      "(23765, 961)\n"
     ]
    }
   ],
   "source": [
    "train_shuffle = np.append(train,train_l.reshape(23765,1),axis=1)\n",
    "print(train_shuffle.shape)\n",
    "from sklearn.utils import shuffle\n",
    "train_shuffle = shuffle(train_shuffle)"
   ]
  },
  {
   "cell_type": "code",
   "execution_count": 989,
   "metadata": {},
   "outputs": [
    {
     "name": "stdout",
     "output_type": "stream",
     "text": [
      "(9877, 960) (9877,)\n",
      "(2470, 960)\n"
     ]
    }
   ],
   "source": [
    "x_train = np.array(train_shuffle[:,:-1])\n",
    "y_train = np.array(train_shuffle[:,-1])\n",
    "x_test = np.array(test)\n",
    "y_test = np.array(test_l)\n",
    "print(x_train.shape,y_train.shape)\n",
    "print(x_test.shape)"
   ]
  },
  {
   "cell_type": "code",
   "execution_count": 133,
   "metadata": {},
   "outputs": [
    {
     "name": "stdout",
     "output_type": "stream",
     "text": [
      "0\n",
      "[ 0  0  0 ... 48 48 48]\n"
     ]
    }
   ],
   "source": [
    "print(test_l[0])\n",
    "print(train_l)"
   ]
  },
  {
   "cell_type": "code",
   "execution_count": 1065,
   "metadata": {},
   "outputs": [],
   "source": [
    "x_train = x_train.reshape((-1,16,60))\n",
    "x_test = x_test.reshape((-1,16,60))"
   ]
  },
  {
   "cell_type": "code",
   "execution_count": 768,
   "metadata": {},
   "outputs": [],
   "source": [
    "x_train = x_train.reshape((28910,16,60))\n",
    "x_test = x_test.reshape((5782,16,60))"
   ]
  },
  {
   "cell_type": "code",
   "execution_count": 962,
   "metadata": {},
   "outputs": [],
   "source": [
    "x_train = x_train.reshape((7510,16,30))\n",
    "x_test = x_test.reshape((1878,16,30))"
   ]
  },
  {
   "cell_type": "code",
   "execution_count": 737,
   "metadata": {},
   "outputs": [],
   "source": [
    "x_train = x_train.reshape((7388,16,60))\n",
    "x_test = x_test.reshape((2000,16,60))"
   ]
  },
  {
   "cell_type": "code",
   "execution_count": 960,
   "metadata": {},
   "outputs": [],
   "source": [
    "joint = [0,1,2,6,7,8,12,13,14,18,19,20,24,25,26,30,31,32,36,37,38,42,43,44,48,49,50,54,55,56]"
   ]
  },
  {
   "cell_type": "code",
   "execution_count": 961,
   "metadata": {},
   "outputs": [],
   "source": [
    "x_train = np.delete(x_train,joint,axis=2)\n",
    "x_test = np.delete(x_test,joint,axis=2)"
   ]
  },
  {
   "cell_type": "code",
   "execution_count": 3,
   "metadata": {},
   "outputs": [],
   "source": [
    "from tcn import TCN, tcn_full_summary\n",
    "import tensorflow as tf\n",
    "from tensorflow import keras\n",
    "from tensorflow.keras import layers\n",
    "\n",
    "tcn_layer = TCN(input_shape=(3, 60))\n",
    "# The receptive field tells you how far the model can see in terms of timesteps.\n",
    "# print('Receptive field size =', tcn_layer.receptive_field)\n",
    "\n",
    "# hidden_size = 100\n",
    "\n",
    "mlp = keras.Sequential(\n",
    "    [\n",
    "        layers.Input((16,60)),\n",
    "#         layers.Dropout(0.1),\n",
    "\n",
    "#         tcn_layer,\n",
    "        layers.Conv1D(32,2,activation='relu',padding='valid',dilation_rate=1),\n",
    "        layers.BatchNormalization(),\n",
    "#         layers.Dropout(0.3),\n",
    "        layers.Conv1D(32,2,activation='relu',padding='valid',dilation_rate=2),\n",
    "        layers.BatchNormalization(),\n",
    "#         layers.Dropout(0.3),\n",
    "        layers.Conv1D(32,2,activation='relu',padding='valid',dilation_rate=4),\n",
    "        layers.BatchNormalization(),\n",
    "#         layers.Dropout(0.3),\n",
    "        layers.Conv1D(32,2,activation='relu',padding='valid',dilation_rate=8),\n",
    "#         layers.Dropout(0.3),\n",
    "        layers.Flatten(),\n",
    "        layers.Dense(64,activation='relu'),\n",
    "#         layers.Dropout(0.5),\n",
    "        layers.Dense(64,activation='relu'),\n",
    "#         layers.Dropout(0.25),\n",
    "        layers.Dense(64,activation='relu'),\n",
    "#         layers.Dropout(0.1),\n",
    "        layers.Dense(49,activation='softmax')\n",
    "    ]\n",
    ")"
   ]
  },
  {
   "cell_type": "code",
   "execution_count": 4,
   "metadata": {},
   "outputs": [
    {
     "name": "stdout",
     "output_type": "stream",
     "text": [
      "Model: \"sequential_1\"\n",
      "_________________________________________________________________\n",
      "Layer (type)                 Output Shape              Param #   \n",
      "=================================================================\n",
      "conv1d_4 (Conv1D)            (None, 15, 32)            3872      \n",
      "_________________________________________________________________\n",
      "batch_normalization_3 (Batch (None, 15, 32)            128       \n",
      "_________________________________________________________________\n",
      "conv1d_5 (Conv1D)            (None, 13, 32)            2080      \n",
      "_________________________________________________________________\n",
      "batch_normalization_4 (Batch (None, 13, 32)            128       \n",
      "_________________________________________________________________\n",
      "conv1d_6 (Conv1D)            (None, 9, 32)             2080      \n",
      "_________________________________________________________________\n",
      "batch_normalization_5 (Batch (None, 9, 32)             128       \n",
      "_________________________________________________________________\n",
      "conv1d_7 (Conv1D)            (None, 1, 32)             2080      \n",
      "_________________________________________________________________\n",
      "flatten_1 (Flatten)          (None, 32)                0         \n",
      "_________________________________________________________________\n",
      "dense_4 (Dense)              (None, 64)                2112      \n",
      "_________________________________________________________________\n",
      "dense_5 (Dense)              (None, 64)                4160      \n",
      "_________________________________________________________________\n",
      "dense_6 (Dense)              (None, 64)                4160      \n",
      "_________________________________________________________________\n",
      "dense_7 (Dense)              (None, 49)                3185      \n",
      "=================================================================\n",
      "Total params: 24,113\n",
      "Trainable params: 23,921\n",
      "Non-trainable params: 192\n",
      "_________________________________________________________________\n"
     ]
    }
   ],
   "source": [
    "mlp.summary()"
   ]
  },
  {
   "cell_type": "code",
   "execution_count": 741,
   "metadata": {
    "scrolled": true
   },
   "outputs": [],
   "source": [
    "from tensorflow.keras.models import load_model\n",
    "mlp = load_model(\"test4.h5\")"
   ]
  },
  {
   "cell_type": "code",
   "execution_count": 1082,
   "metadata": {},
   "outputs": [],
   "source": [
    "mlp.compile(optimizer=tf.keras.optimizers.Adam(learning_rate=1e-3),\n",
    "              loss=tf.keras.losses.SparseCategoricalCrossentropy(from_logits=False),\n",
    "             metrics=['accuracy'])"
   ]
  },
  {
   "cell_type": "code",
   "execution_count": 1036,
   "metadata": {},
   "outputs": [],
   "source": [
    "train_data = train_data.reshape((-1,16,60))"
   ]
  },
  {
   "cell_type": "code",
   "execution_count": 1084,
   "metadata": {},
   "outputs": [
    {
     "name": "stdout",
     "output_type": "stream",
     "text": [
      "Train on 20237 samples, validate on 8673 samples\n",
      "20237/20237 [==============================] - 2s 119us/sample - loss: 0.7697 - accuracy: 0.7717 - val_loss: 1.0610 - val_accuracy: 0.7334\n"
     ]
    }
   ],
   "source": [
    "history_mlp = mlp.fit(x_train,y_train, epochs=1,batch_size=64,\n",
    "                         validation_data=(x_test,y_test))"
   ]
  },
  {
   "cell_type": "code",
   "execution_count": 1108,
   "metadata": {},
   "outputs": [],
   "source": [
    "model1 = keras.Model(inputs=mlp.input,outputs=mlp.get_layer('conv1d_331').output)"
   ]
  },
  {
   "cell_type": "code",
   "execution_count": 1091,
   "metadata": {},
   "outputs": [],
   "source": [
    "new_train = []\n",
    "new_test = []\n",
    "for i in range(len(x_train)):\n",
    "    features = model.predict(x_train[i].reshape((1,16,60)))\n",
    "    new_train.append(features)\n",
    "for i in range(len(x_test)):\n",
    "    features = model.predict(x_test[i].reshape(1,16,60))\n",
    "    new_test.append(features)\n",
    "new_train = np.array(new_train)\n",
    "new_test = np.array(new_test)"
   ]
  },
  {
   "cell_type": "code",
   "execution_count": 1103,
   "metadata": {},
   "outputs": [
    {
     "name": "stdout",
     "output_type": "stream",
     "text": [
      "(8673, 32)\n",
      "(20237, 32)\n"
     ]
    }
   ],
   "source": [
    "print(new_test.reshape(-1,32).shape)\n",
    "print(new_train.reshape(-1,32).shape)"
   ]
  },
  {
   "cell_type": "code",
   "execution_count": 1116,
   "metadata": {},
   "outputs": [
    {
     "data": {
      "text/plain": [
       "SVC(C=1000, gamma=0.001, probability=True)"
      ]
     },
     "execution_count": 1116,
     "metadata": {},
     "output_type": "execute_result"
    }
   ],
   "source": [
    "from sklearn.svm import SVC\n",
    "\n",
    "model = SVC(kernel='rbf', C=1000, gamma=0.001, decision_function_shape='ovr', probability=True)\n",
    "model.fit(new_train.reshape(-1,32),y_train)\n"
   ]
  },
  {
   "cell_type": "code",
   "execution_count": 1117,
   "metadata": {},
   "outputs": [
    {
     "name": "stdout",
     "output_type": "stream",
     "text": [
      "0.7734347976478727\n"
     ]
    }
   ],
   "source": [
    "p = model.predict(new_test.reshape(-1,32))\n",
    "\n",
    "from sklearn.metrics import accuracy_score\n",
    "print(accuracy_score(y_test,p))"
   ]
  },
  {
   "cell_type": "code",
   "execution_count": 1096,
   "metadata": {},
   "outputs": [
    {
     "name": "stdout",
     "output_type": "stream",
     "text": [
      "(260190, 32)\n"
     ]
    }
   ],
   "source": [
    "print(x_test.reshape((-1,32)).shape)"
   ]
  },
  {
   "cell_type": "code",
   "execution_count": 1043,
   "metadata": {},
   "outputs": [
    {
     "ename": "KeyError",
     "evalue": "'val_loss'",
     "output_type": "error",
     "traceback": [
      "\u001b[1;31m---------------------------------------------------------------------------\u001b[0m",
      "\u001b[1;31mKeyError\u001b[0m                                  Traceback (most recent call last)",
      "\u001b[1;32m~\\AppData\\Local\\Temp/ipykernel_6600/1959605850.py\u001b[0m in \u001b[0;36m<module>\u001b[1;34m\u001b[0m\n\u001b[0;32m      2\u001b[0m \u001b[1;33m\u001b[0m\u001b[0m\n\u001b[0;32m      3\u001b[0m \u001b[0mplt\u001b[0m\u001b[1;33m.\u001b[0m\u001b[0mplot\u001b[0m\u001b[1;33m(\u001b[0m\u001b[0mhistory_mlp\u001b[0m\u001b[1;33m.\u001b[0m\u001b[0mhistory\u001b[0m\u001b[1;33m[\u001b[0m\u001b[1;34m'loss'\u001b[0m\u001b[1;33m]\u001b[0m\u001b[1;33m,\u001b[0m \u001b[0mlabel\u001b[0m\u001b[1;33m=\u001b[0m\u001b[1;34m'Train'\u001b[0m\u001b[1;33m)\u001b[0m\u001b[1;33m\u001b[0m\u001b[1;33m\u001b[0m\u001b[0m\n\u001b[1;32m----> 4\u001b[1;33m \u001b[0mplt\u001b[0m\u001b[1;33m.\u001b[0m\u001b[0mplot\u001b[0m\u001b[1;33m(\u001b[0m\u001b[0mhistory_mlp\u001b[0m\u001b[1;33m.\u001b[0m\u001b[0mhistory\u001b[0m\u001b[1;33m[\u001b[0m\u001b[1;34m'val_loss'\u001b[0m\u001b[1;33m]\u001b[0m\u001b[1;33m,\u001b[0m \u001b[0mlabel\u001b[0m\u001b[1;33m=\u001b[0m\u001b[1;34m'Test'\u001b[0m\u001b[1;33m)\u001b[0m\u001b[1;33m\u001b[0m\u001b[1;33m\u001b[0m\u001b[0m\n\u001b[0m\u001b[0;32m      5\u001b[0m \u001b[0mplt\u001b[0m\u001b[1;33m.\u001b[0m\u001b[0mylabel\u001b[0m\u001b[1;33m(\u001b[0m\u001b[1;34m'Loss'\u001b[0m\u001b[1;33m)\u001b[0m\u001b[1;33m\u001b[0m\u001b[1;33m\u001b[0m\u001b[0m\n\u001b[0;32m      6\u001b[0m \u001b[0mplt\u001b[0m\u001b[1;33m.\u001b[0m\u001b[0mxlabel\u001b[0m\u001b[1;33m(\u001b[0m\u001b[1;34m'Epoch'\u001b[0m\u001b[1;33m)\u001b[0m\u001b[1;33m\u001b[0m\u001b[1;33m\u001b[0m\u001b[0m\n",
      "\u001b[1;31mKeyError\u001b[0m: 'val_loss'"
     ]
    },
    {
     "data": {
      "image/png": "[encoded data removed]",
      "text/plain": [
       "<Figure size 432x288 with 1 Axes>"
      ]
     },
     "metadata": {
      "needs_background": "light"
     },
     "output_type": "display_data"
    }
   ],
   "source": [
    "import matplotlib.pyplot as plt\n",
    "\n",
    "plt.plot(history_mlp.history['loss'], label='Train')\n",
    "plt.plot(history_mlp.history['val_loss'], label='Test')\n",
    "plt.ylabel('Loss')\n",
    "plt.xlabel('Epoch')\n",
    "plt.title('Training and testing loss')\n",
    "plt.legend()\n",
    "plt.show()"
   ]
  },
  {
   "cell_type": "code",
   "execution_count": 1044,
   "metadata": {},
   "outputs": [
    {
     "ename": "KeyError",
     "evalue": "'val_accuracy'",
     "output_type": "error",
     "traceback": [
      "\u001b[1;31m---------------------------------------------------------------------------\u001b[0m",
      "\u001b[1;31mKeyError\u001b[0m                                  Traceback (most recent call last)",
      "\u001b[1;32m~\\AppData\\Local\\Temp/ipykernel_6600/91277011.py\u001b[0m in \u001b[0;36m<module>\u001b[1;34m\u001b[0m\n\u001b[0;32m      1\u001b[0m \u001b[0mplt\u001b[0m\u001b[1;33m.\u001b[0m\u001b[0mplot\u001b[0m\u001b[1;33m(\u001b[0m\u001b[0mhistory_mlp\u001b[0m\u001b[1;33m.\u001b[0m\u001b[0mhistory\u001b[0m\u001b[1;33m[\u001b[0m\u001b[1;34m'accuracy'\u001b[0m\u001b[1;33m]\u001b[0m\u001b[1;33m,\u001b[0m \u001b[0mlabel\u001b[0m\u001b[1;33m=\u001b[0m\u001b[1;34m'Train'\u001b[0m\u001b[1;33m)\u001b[0m\u001b[1;33m\u001b[0m\u001b[1;33m\u001b[0m\u001b[0m\n\u001b[1;32m----> 2\u001b[1;33m \u001b[0mplt\u001b[0m\u001b[1;33m.\u001b[0m\u001b[0mplot\u001b[0m\u001b[1;33m(\u001b[0m\u001b[0mhistory_mlp\u001b[0m\u001b[1;33m.\u001b[0m\u001b[0mhistory\u001b[0m\u001b[1;33m[\u001b[0m\u001b[1;34m'val_accuracy'\u001b[0m\u001b[1;33m]\u001b[0m\u001b[1;33m,\u001b[0m \u001b[0mlabel\u001b[0m\u001b[1;33m=\u001b[0m\u001b[1;34m'Test'\u001b[0m\u001b[1;33m)\u001b[0m\u001b[1;33m\u001b[0m\u001b[1;33m\u001b[0m\u001b[0m\n\u001b[0m\u001b[0;32m      3\u001b[0m \u001b[0mplt\u001b[0m\u001b[1;33m.\u001b[0m\u001b[0mylabel\u001b[0m\u001b[1;33m(\u001b[0m\u001b[1;34m'Accuracy'\u001b[0m\u001b[1;33m)\u001b[0m\u001b[1;33m\u001b[0m\u001b[1;33m\u001b[0m\u001b[0m\n\u001b[0;32m      4\u001b[0m \u001b[0mplt\u001b[0m\u001b[1;33m.\u001b[0m\u001b[0mxlabel\u001b[0m\u001b[1;33m(\u001b[0m\u001b[1;34m'Epoch'\u001b[0m\u001b[1;33m)\u001b[0m\u001b[1;33m\u001b[0m\u001b[1;33m\u001b[0m\u001b[0m\n\u001b[0;32m      5\u001b[0m \u001b[0mplt\u001b[0m\u001b[1;33m.\u001b[0m\u001b[0mtitle\u001b[0m\u001b[1;33m(\u001b[0m\u001b[1;34m'Training and testing accuracy'\u001b[0m\u001b[1;33m)\u001b[0m\u001b[1;33m\u001b[0m\u001b[1;33m\u001b[0m\u001b[0m\n",
      "\u001b[1;31mKeyError\u001b[0m: 'val_accuracy'"
     ]
    },
    {
     "data": {
      "image/png": "[encoded data removed]",
      "text/plain": [
       "<Figure size 432x288 with 1 Axes>"
      ]
     },
     "metadata": {
      "needs_background": "light"
     },
     "output_type": "display_data"
    }
   ],
   "source": [
    "plt.plot(history_mlp.history['accuracy'], label='Train')\n",
    "plt.plot(history_mlp.history['val_accuracy'], label='Test')\n",
    "plt.ylabel('Accuracy')\n",
    "plt.xlabel('Epoch')\n",
    "plt.title('Training and testing accuracy')\n",
    "plt.legend()\n",
    "plt.show()"
   ]
  },
  {
   "cell_type": "code",
   "execution_count": 779,
   "metadata": {},
   "outputs": [],
   "source": [
    "mlp.save(\"new.h5\")"
   ]
  },
  {
   "cell_type": "code",
   "execution_count": 77,
   "metadata": {},
   "outputs": [],
   "source": [
    "np.savetxt(\"new_train.csv\",x_train.reshape((23128,960)),delimiter=\",\")\n",
    "np.savetxt(\"new_test.csv\",x_test.reshape((5782,960)),delimiter=\",\")\n",
    "np.savetxt(\"new_train_label.csv\",y_train,delimiter=\",\")\n",
    "np.savetxt(\"new_test_label.csv\",y_test,delimiter=\",\")"
   ]
  },
  {
   "cell_type": "code",
   "execution_count": 78,
   "metadata": {},
   "outputs": [],
   "source": [
    "np.savetxt(\"kaggle_test.csv\",test,delimiter=\",\")"
   ]
  },
  {
   "cell_type": "code",
   "execution_count": 1118,
   "metadata": {},
   "outputs": [],
   "source": [
    "test_data = open(\"test.csv\",'r').readlines()"
   ]
  },
  {
   "cell_type": "code",
   "execution_count": 1119,
   "metadata": {},
   "outputs": [],
   "source": [
    "test = []\n",
    "test_id = []\n",
    "for instance in test_data:\n",
    "    sequence = instance.split(\",\")\n",
    "    for i in range(len(sequence)):\n",
    "        if i != 0:\n",
    "            sequence[i] = float(sequence[i].strip())\n",
    "        else:\n",
    "            sequence[i] = int(sequence[i].strip())\n",
    "    test.append(sequence[1:])\n",
    "    test_id.append(sequence[0])\n",
    "    \n",
    "test = np.array(test)\n",
    "teset_id = np.array(test_id)"
   ]
  },
  {
   "cell_type": "code",
   "execution_count": 1107,
   "metadata": {},
   "outputs": [
    {
     "name": "stdout",
     "output_type": "stream",
     "text": [
      "(2959, 960)\n"
     ]
    }
   ],
   "source": [
    "print(test.shape)"
   ]
  },
  {
   "cell_type": "code",
   "execution_count": 173,
   "metadata": {},
   "outputs": [],
   "source": [
    "test = scalar.transform(test)"
   ]
  },
  {
   "cell_type": "code",
   "execution_count": 801,
   "metadata": {},
   "outputs": [],
   "source": [
    "from tensorflow.keras.models import load_model\n",
    "\n",
    "mlp = load_model(\"new.h5\")"
   ]
  },
  {
   "cell_type": "code",
   "execution_count": 465,
   "metadata": {},
   "outputs": [],
   "source": [
    "test = np.delete(test.reshape((2959,16,60)),joint,axis=2)"
   ]
  },
  {
   "cell_type": "code",
   "execution_count": 467,
   "metadata": {},
   "outputs": [
    {
     "name": "stdout",
     "output_type": "stream",
     "text": [
      "(2959, 16, 30)\n"
     ]
    }
   ],
   "source": [
    "print(test.shape)"
   ]
  },
  {
   "cell_type": "code",
   "execution_count": 1120,
   "metadata": {},
   "outputs": [],
   "source": [
    "tf = []\n",
    "for instance in test:\n",
    "    instance = instance.reshape((1,16,60))\n",
    "    tf.append(model1.predict(instance))\n",
    "tf = np.array(tf)\n",
    "predictions = model.predict(tf.reshape(-1,32))\n",
    "prediction = np.array(predictions)\n",
    "predictions += 1"
   ]
  },
  {
   "cell_type": "code",
   "execution_count": 1047,
   "metadata": {},
   "outputs": [],
   "source": [
    "predictions = []\n",
    "for instance in test:\n",
    "    instance = instance.reshape((1,16,60))\n",
    "    predictions.append(mlp.predict_classes(instance)[0] + 1)"
   ]
  },
  {
   "cell_type": "code",
   "execution_count": 1121,
   "metadata": {},
   "outputs": [],
   "source": [
    "predict = [\"Id,Category\\n\"]\n",
    "for i in range(len(predictions)):\n",
    "    predict += str(i) + \",\" + str(predictions[i]) + \"\\n\"\n",
    "test_predict = open(\"predictions.csv\",\"w\")\n",
    "test_predict.writelines(predict)\n",
    "test_predict.close()"
   ]
  },
  {
   "cell_type": "code",
   "execution_count": 1122,
   "metadata": {},
   "outputs": [
    {
     "name": "stdout",
     "output_type": "stream",
     "text": [
      "2959\n"
     ]
    }
   ],
   "source": [
    "print(len(predictions))"
   ]
  }
 ],
 "metadata": {
  "accelerator": "GPU",
  "colab": {
   "authorship_tag": "ABX9TyMonj5KYq0kshCSpMwXWzUX",
   "collapsed_sections": [],
   "name": "Demo2.ipynb",
   "provenance": []
  },
  "kernelspec": {
   "display_name": "Python 3 (ipykernel)",
   "language": "python",
   "name": "python3"
  },
  "language_info": {
   "codemirror_mode": {
    "name": "ipython",
    "version": 3
   },
   "file_extension": ".py",
   "mimetype": "text/x-python",
   "name": "python",
   "nbconvert_exporter": "python",
   "pygments_lexer": "ipython3",
   "version": "3.7.10"
  }
 },
 "nbformat": 4,
 "nbformat_minor": 1
}
